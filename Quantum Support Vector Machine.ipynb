{
 "cells": [
  {
   "cell_type": "markdown",
   "source": [
    "# Pegasos Quantum Support Vector Classifier\n",
    "\n",
    "The purpose of this series of notebooks is to have a better understanding of the Qiskit library.\n",
    "\n",
    "\n",
    "[Cristian Correa](https://www.linkedin.com/in/cristiancamilocorrea/)"
   ],
   "metadata": {
    "collapsed": false
   }
  },
  {
   "cell_type": "markdown",
   "source": [
    "# Feature Map\n",
    "\n",
    "What we're gonna do is map the location of two types of species from the 2D plane into a higher dimension K\n",
    "Now what we can do is compute the optimal hyperplane in some higher dimension that can separate the two classes.\n",
    "\n",
    "This involves computing the distances between our data points within the higher dimensional space, so if K is very large finding these distances can be very computationally expensive. Son simpler thing to do is to use what's called the [Kernel Trick](https://mathworld.wolfram.com/Kernel.html) The kernel is some easily computable function that takes our two data points and gives back a distance. And the kernel can be optimized in order to maximize the distances between our two classes of data. Unfortunately, some kernel matrices are difficult to compute classically. So this is where the Quantum Computer Comes in. If the kernel can not be estimated classically, Quantum Machine Learning shows a lot of promise in being able to use the multidimensional computation space of the quantum computer in order to find the hyperplane. When data is mapped from its input dimension into the [Hilbert Space](https://mathworld.wolfram.com/HilbertSpace.html) of the Quantum Computer it intrinsically is cast into a higher dimensional space. And usually, finding a dividing hyperplane is often only possible in a higher dimension.\n",
    "\n",
    "![](https://miro.medium.com/max/1400/0*6VMrGr6j0-Dlns6-.png)\n",
    "\n",
    "\n",
    "There’s another SVM based algorithm that benefits from the quantum kernel method. Here, we introduce an implementation of a another classification algorithm, which is an alternative version to the QSVC available in Qiskit Machine Learning and shown in the “Quantum Kernel Machine Learning” tutorial. This classification algorithm implements the Pegasos algorithm from the paper “Pegasos: Primal Estimated sub-GrAdient SOlver for SVM” by Shalev-Shwartz et al., see: [https://home.ttic.edu/~nati/Publications/PegasosMPB.pdf](https://home.ttic.edu/~nati/Publications/PegasosMPB.pdf)."
   ],
   "metadata": {
    "collapsed": false
   },
   "execution_count": 1
  },
  {
   "cell_type": "markdown",
   "source": [
    "Let's generate some data:"
   ],
   "metadata": {
    "collapsed": false
   }
  },
  {
   "cell_type": "code",
   "execution_count": 3,
   "outputs": [],
   "source": [
    "from sklearn.datasets import  make_blobs\n",
    "\n",
    "# example dataset\n",
    "\n",
    "features, labels = make_blobs( n_samples=20, n_features=2, centers=2, random_state=3, shuffle=True )"
   ],
   "metadata": {
    "collapsed": false
   }
  },
  {
   "cell_type": "code",
   "execution_count": 6,
   "outputs": [
    {
     "name": "stdout",
     "output_type": "stream",
     "text": [
      "(20, 2)\n",
      "(20,)\n"
     ]
    }
   ],
   "source": [
    "print(features.shape)\n",
    "print(labels.shape)"
   ],
   "metadata": {
    "collapsed": false
   }
  },
  {
   "cell_type": "markdown",
   "source": [
    "Before using the data, we make sure that it cam be used with a method called \"*rotation encoding*\". We Also divide the data into two sets: training data and test data will be used to train a model, and the tes data will be used to evaluate the model's performance.\n",
    "\n",
    ">Rotation encoding is a feature representation technique used in machine learning, especially in computer vision. In computer vision, images are often treated as arrays of pixels and rotated images are often considered as new, distinct data points. However, this leads to an exponential increase in the size of the dataset, which can result in overfitting and reduced performance.\n",
    "\n",
    "> To address this, rotation encoding transforms the original image into a feature representation that encodes rotational information in a compact manner. The idea is to extract features that are invariant to rotations, so that the same feature is obtained for the original image and its rotations. This results in a much smaller feature space, which is more efficient for machine learning algorithms to learn from.\n",
    "\n",
    "\n",
    "\n",
    "\n"
   ],
   "metadata": {
    "collapsed": false
   }
  },
  {
   "cell_type": "code",
   "execution_count": 12,
   "outputs": [
    {
     "name": "stdout",
     "output_type": "stream",
     "text": [
      "(20, 2)\n"
     ]
    }
   ],
   "source": [
    "import numpy as np\n",
    "\n",
    "from sklearn.model_selection import train_test_split\n",
    "from sklearn.preprocessing import  MinMaxScaler\n",
    "\n",
    "features = MinMaxScaler( feature_range=(0, np.pi) ).fit_transform(features)\n",
    "print(features.shape)\n",
    "\n",
    "train_features, test_features, train_labels, test_labels = train_test_split(\n",
    " features, labels, train_size=15, shuffle=False\n",
    ")"
   ],
   "metadata": {
    "collapsed": false
   }
  },
  {
   "cell_type": "markdown",
   "source": [
    "We have two features in the dataset, so we set a number of qubits to the number of features in the dataset.\n",
    "\n",
    "Then we set $t$ to the number of steps performed during the training procedure. Please note that there is no early stopping criterion in the algorithm. The algorithm iterates over all $t$ steps.\n",
    "\n",
    "And the last one is the hyperparameter $C$. This is a positive regularization parameter. The strength of the regularization is inversely proportional to $C$. SMALLER $C$ induces smaller weights which generally helps prevent overfitting. However, due to the nature of this algorithm, some of the computation steps become trivial for larger $C$. THUS, LARGER $C$ improves the performance of the algorithm drastically. If the data is linearly separable in feature space, $C$ should be chosen to be large. If the separation is not perfect, $C$ should be chosen smaller to prevent overfitting.\n",
    "\n",
    "$C$  \"C\" refers to the regularization parameter in a binary classification problem that helps prevent overfitting. It controls the tradeoff between fitting the training data and minimizing the magnitude of the weights in the classifier.\n",
    "\n",
    "$t$  \"Tau\" refers to a parameter in the quantum version of support vector machines (QSVM) that determines the width of the kernel used to map data into a higher-dimensional feature space. It controls the smoothness of the decision boundary and can be adjusted to improve the classification accuracy of QSVM."
   ],
   "metadata": {
    "collapsed": false
   }
  },
  {
   "cell_type": "code",
   "execution_count": 13,
   "outputs": [],
   "source": [
    "# number of qubits is equal to the number of features\n",
    "\n",
    "num_qubits = 2\n",
    "\n",
    "# number of steps performed during the traingin procedure\n",
    "tau = 100\n",
    "\n",
    "# regularization parameter\n",
    "C = 100"
   ],
   "metadata": {
    "collapsed": false
   }
  },
  {
   "cell_type": "markdown",
   "source": [
    "The algorithm will run using:\n",
    "\n",
    "* The default fidelity instantiated in `FidelityQuantumKernel`\n",
    "* A quantum kernel created from `ZFeatureMap`"
   ],
   "metadata": {
    "collapsed": false
   }
  },
  {
   "cell_type": "code",
   "execution_count": 14,
   "outputs": [],
   "source": [
    "from qiskit import  BasicAer\n",
    "from qiskit.circuit.library import ZFeatureMap\n",
    "from qiskit.utils import  algorithm_globals\n",
    "\n",
    "from qiskit_machine_learning.kernels import  FidelityQuantumKernel\n",
    "\n",
    "algorithm_globals.random_seed = 12345\n",
    "\n",
    "feature_map = ZFeatureMap(feature_dimension=num_qubits , reps=1)\n",
    "\n",
    "qkernel = FidelityQuantumKernel(feature_map=feature_map)"
   ],
   "metadata": {
    "collapsed": false
   }
  },
  {
   "cell_type": "code",
   "execution_count": 20,
   "outputs": [
    {
     "name": "stdout",
     "output_type": "stream",
     "text": [
      "     ┌─────────────────────────┐\n",
      "q_0: ┤0                        ├\n",
      "     │  ZFeatureMap(x[0],x[1]) │\n",
      "q_1: ┤1                        ├\n",
      "     └─────────────────────────┘\n"
     ]
    }
   ],
   "source": [
    "print(feature_map)"
   ],
   "metadata": {
    "collapsed": false
   }
  },
  {
   "cell_type": "markdown",
   "source": [
    "The implementation PegasosQSVC is compatible with the `scikit-learn` interfaces and has pretty standard way of training model. In the constructor we pass parameters of the algorithm, in this case there are a regularization hyper-parameter $C$ and a number of steps.\n",
    "\n",
    "Then we pass training features and labels to the fit method. which trains a models and returns a fitted classifier.\n",
    "\n",
    "Afterwards, we score our model using test features and labels."
   ],
   "metadata": {
    "collapsed": false
   }
  },
  {
   "cell_type": "code",
   "execution_count": 22,
   "outputs": [],
   "source": [
    "from qiskit_machine_learning.algorithms import PegasosQSVC\n",
    "\n",
    "pegasos_qsvc = PegasosQSVC(quantum_kernel=qkernel ,C=C, num_steps=tau )\n",
    "\n",
    "#traingin\n",
    "pegasos_qsvc.fit(train_features, train_labels)\n",
    "\n",
    "#testing\n",
    "pegasos_score = pegasos_qsvc.score(test_features, test_labels)"
   ],
   "metadata": {
    "collapsed": false
   }
  },
  {
   "cell_type": "code",
   "execution_count": 26,
   "outputs": [
    {
     "name": "stdout",
     "output_type": "stream",
     "text": [
      " PegasosQSVC classification test score: 1.0\n"
     ]
    }
   ],
   "source": [
    "print(f\" PegasosQSVC classification test score: {pegasos_score}\")"
   ],
   "metadata": {
    "collapsed": false
   }
  },
  {
   "cell_type": "markdown",
   "source": [
    "For visualization purposes we create a mesh grid of a predefined step that spans our minimum and maximum values we applied in MinMaxScaler. We also add some margin to the grid for better representation of the training and test samples."
   ],
   "metadata": {
    "collapsed": false
   }
  },
  {
   "cell_type": "code",
   "execution_count": 28,
   "outputs": [],
   "source": [
    "grid_step = 0.2\n",
    "margin = 0.2\n",
    "\n",
    "grid_x, grid_y = np.meshgrid(\n",
    "\n",
    " np.arange( -margin, np.pi + margin, grid_step) , np.arange(-margin, np.pi + margin,grid_step)\n",
    "\n",
    ")"
   ],
   "metadata": {
    "collapsed": false
   }
  },
  {
   "cell_type": "markdown",
   "source": [
    "We convert the grid to the shape compatible with the model, the shape should be `(n_samples, n_features)`. Then for each grid point we predict a label. In our case predicted labels will be used for coloring the grid."
   ],
   "metadata": {
    "collapsed": false
   }
  },
  {
   "cell_type": "code",
   "execution_count": 30,
   "outputs": [],
   "source": [
    "meshgrid_features = np.column_stack(( grid_x.ravel(), grid_y.ravel() ))\n",
    "meshgrid_colors = pegasos_qsvc.predict(meshgrid_features)"
   ],
   "metadata": {
    "collapsed": false
   }
  },
  {
   "cell_type": "markdown",
   "source": [
    "Finally, we plot our grid according to the labels/colors we obtained from the model. We also plot traingin and test samples."
   ],
   "metadata": {
    "collapsed": false
   }
  },
  {
   "cell_type": "code",
   "execution_count": 40,
   "outputs": [
    {
     "data": {
      "text/plain": "<Figure size 500x500 with 1 Axes>",
      "image/png": "[encoded data removed]"
     },
     "metadata": {},
     "output_type": "display_data"
    }
   ],
   "source": [
    "import matplotlib.pyplot as plt\n",
    "\n",
    "plt.figure( figsize=(5,5) )\n",
    "meshgrid_colors = meshgrid_colors.reshape(grid_x.shape)\n",
    "plt.pcolormesh(grid_x,grid_y, meshgrid_colors, cmap=\"RdBu\", shading=\"auto\")\n",
    "\n",
    "plt.scatter(\n",
    " train_features[:, 0][train_labels == 0],\n",
    " train_features[:, 1][train_labels == 0],\n",
    " marker=\"s\",\n",
    " facecolors=\"w\",\n",
    " edgecolors=\"r\",\n",
    " label=\"A train\",\n",
    ")\n",
    "plt.scatter(\n",
    " train_features[:, 0][train_labels == 1],\n",
    " train_features[:, 1][train_labels == 1],\n",
    " marker=\"o\",\n",
    " facecolors=\"w\",\n",
    " edgecolors=\"b\",\n",
    " label=\"B train\",\n",
    ")\n",
    "plt.scatter(\n",
    " test_features[:,0][test_labels == 0],\n",
    " test_features[:,1][test_labels == 0],\n",
    " marker=\"s\",\n",
    " facecolors=\"r\",\n",
    " edgecolors=\"r\",\n",
    " label=\"A test\",\n",
    ")\n",
    "plt.scatter(\n",
    " test_features[:, 0][test_labels == 1],\n",
    " test_features[:, 1][test_labels == 1],\n",
    " marker=\"o\",\n",
    " facecolors=\"b\",\n",
    " edgecolors=\"b\",\n",
    " label=\"B test\",\n",
    ")\n",
    "\n",
    "plt.legend( bbox_to_anchor=(1.05, 1), loc=\"upper left\", borderaxespad=0.0 )\n",
    "plt.title(\"Pegasos Classification\")\n",
    "plt.show()"
   ],
   "metadata": {
    "collapsed": false
   }
  },
  {
   "cell_type": "code",
   "execution_count": 42,
   "outputs": [
    {
     "data": {
      "text/plain": "<IPython.core.display.HTML object>",
      "text/html": "<h3>Version Information</h3><table><tr><th>Qiskit Software</th><th>Version</th></tr><tr><td><code>qiskit-terra</code></td><td>0.23.1</td></tr><tr><td><code>qiskit-aer</code></td><td>0.11.2</td></tr><tr><td><code>qiskit-ibmq-provider</code></td><td>0.20.0</td></tr><tr><td><code>qiskit</code></td><td>0.41.0</td></tr><tr><td><code>qiskit-machine-learning</code></td><td>0.5.0</td></tr><tr><th>System information</th></tr><tr><td>Python version</td><td>3.9.6</td></tr><tr><td>Python compiler</td><td>Clang 14.0.0 (clang-1400.0.29.202)</td></tr><tr><td>Python build</td><td>default, Oct 18 2022 12:41:40</td></tr><tr><td>OS</td><td>Darwin</td></tr><tr><td>CPUs</td><td>10</td></tr><tr><td>Memory (Gb)</td><td>16.0</td></tr><tr><td colspan='2'>Mon Feb 13 22:02:03 2023 -05</td></tr></table>"
     },
     "metadata": {},
     "output_type": "display_data"
    }
   ],
   "source": [
    "import qiskit.tools.jupyter\n",
    "\n",
    "%qiskit_version_table"
   ],
   "metadata": {
    "collapsed": false
   }
  }
 ],
 "metadata": {
  "kernelspec": {
   "display_name": "Python 3",
   "language": "python",
   "name": "python3"
  },
  "language_info": {
   "codemirror_mode": {
    "name": "ipython",
    "version": 2
   },
   "file_extension": ".py",
   "mimetype": "text/x-python",
   "name": "python",
   "nbconvert_exporter": "python",
   "pygments_lexer": "ipython2",
   "version": "2.7.6"
  }
 },
 "nbformat": 4,
 "nbformat_minor": 0
}
