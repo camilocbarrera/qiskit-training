{
 "cells": [
  {
   "cell_type": "markdown",
   "source": [
    "# Pegasos Quantum Support Vector Classifier\n",
    "\n",
    "The purpose of this series of notebooks is to have a better understanding of the Qiskit library.\n",
    "\n",
    "\n",
    "[Cristian Correa](https://www.linkedin.com/in/cristiancamilocorrea/)"
   ],
   "metadata": {
    "collapsed": false
   }
  },
  {
   "cell_type": "markdown",
   "source": [
    "# Feature Map\n",
    "\n",
    "What we're gonna do is map the location of two types of species from the 2D plane into a higher dimension K\n",
    "Now what we can do is compute the optimal hyperplane in some higher dimension that can separate the two classes.\n",
    "\n",
    "This involves computing the distances between our data points within the higher dimensional space, so if K is very large finding these distances can be very computationally expensive. Son simpler thing to do is to use what's called the [Kernel Trick](https://mathworld.wolfram.com/Kernel.html) The kernel is some easily computable function that takes our two data points and gives back a distance. And the kernel can be optimized in order to maximize the distances between our two classes of data. Unfortunately, some kernel matrices are difficult to compute classically. So this is where the Quantum Computer Comes in. If the kernel can not be estimated classically, Quantum Machine Learning shows a lot of promise in being able to use the multidimensional computation space of the quantum computer in order to find the hyperplane. When data is mapped from its input dimension into the [Hilbert Space](https://mathworld.wolfram.com/HilbertSpace.html) of the Quantum Computer it intrinsically is cast into a higher dimensional space. And usually, finding a dividing hyperplane is often only possible in a higher dimension.\n",
    "\n",
    "![](https://miro.medium.com/max/1400/0*6VMrGr6j0-Dlns6-.png)"
   ],
   "metadata": {
    "collapsed": false
   },
   "execution_count": 1
  },
  {
   "cell_type": "markdown",
   "source": [
    "# Environment\n",
    "Create a virtual env and then install qiskit-aqua\n",
    "```bash\n",
    "pip install qiskit\n",
    "```"
   ],
   "metadata": {
    "collapsed": false
   }
  },
  {
   "cell_type": "code",
   "execution_count": 33,
   "outputs": [],
   "source": [
    "import qiskit"
   ],
   "metadata": {
    "collapsed": false
   }
  },
  {
   "cell_type": "code",
   "execution_count": 35,
   "outputs": [],
   "source": [
    "from matplotlib import pyplot as plt\n",
    "import numpy as np\n",
    "from qiskit_machine_learning.datasets import ad_hoc_data\n",
    "from qiskit import BasicAer\n",
    "from qiskit.utils import QuantumInstance"
   ],
   "metadata": {
    "collapsed": false
   }
  },
  {
   "cell_type": "code",
   "execution_count": 38,
   "outputs": [
    {
     "ename": "SyntaxError",
     "evalue": "invalid syntax (2246936353.py, line 1)",
     "output_type": "error",
     "traceback": [
      "\u001B[0;36m  Cell \u001B[0;32mIn[38], line 1\u001B[0;36m\u001B[0m\n\u001B[0;31m    We have two features in the dataset, so we set a number of qubits to the number of features in the dataset.\u001B[0m\n\u001B[0m       ^\u001B[0m\n\u001B[0;31mSyntaxError\u001B[0m\u001B[0;31m:\u001B[0m invalid syntax\n"
     ]
    }
   ],
   "source": [],
   "metadata": {
    "collapsed": false
   }
  },
  {
   "cell_type": "code",
   "execution_count": 28,
   "outputs": [],
   "source": [],
   "metadata": {
    "collapsed": false
   }
  }
 ],
 "metadata": {
  "kernelspec": {
   "display_name": "Python 3",
   "language": "python",
   "name": "python3"
  },
  "language_info": {
   "codemirror_mode": {
    "name": "ipython",
    "version": 2
   },
   "file_extension": ".py",
   "mimetype": "text/x-python",
   "name": "python",
   "nbconvert_exporter": "python",
   "pygments_lexer": "ipython2",
   "version": "2.7.6"
  }
 },
 "nbformat": 4,
 "nbformat_minor": 0
}
